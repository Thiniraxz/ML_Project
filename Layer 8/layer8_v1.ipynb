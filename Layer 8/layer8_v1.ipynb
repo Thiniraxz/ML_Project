{
  "cells": [
    {
      "cell_type": "code",
      "execution_count": 1,
      "metadata": {
        "id": "zFfiQ9OiOWZL"
      },
      "outputs": [],
      "source": [
        "import pandas as pd\n",
        "import numpy as np\n",
        "from sklearn.preprocessing import StandardScaler\n",
        "from sklearn.model_selection import train_test_split\n",
        "from sklearn.metrics import accuracy_score\n",
        "from sklearn.neighbors import KNeighborsClassifier\n",
        "from sklearn.svm import SVC\n",
        "from sklearn.decomposition import PCA\n",
        "from sklearn.feature_selection import SelectKBest, f_classif, chi2\n",
        "from sklearn.model_selection import RandomizedSearchCV"
      ]
    },
    {
      "cell_type": "code",
      "execution_count": 2,
      "metadata": {},
      "outputs": [],
      "source": [
        "def predictAndGetAccuracyScore(model, x_valid, y_valid):\n",
        "    y_pred = model.predict(x_valid)\n",
        "    accuracy =  accuracy_score(y_valid, y_pred)\n",
        "    print(\"Accuracy: %.2f%%\" % (accuracy * 100.0))\n",
        "    return accuracy"
      ]
    },
    {
      "cell_type": "code",
      "execution_count": 3,
      "metadata": {},
      "outputs": [],
      "source": [
        "def getRandomizedSearch(model, param_grid, x_train, y_train):\n",
        "    grid = RandomizedSearchCV(model, param_grid, cv=5, scoring='accuracy',\n",
        "                              n_iter=2, random_state=42, verbose=2, n_jobs=-1)\n",
        "    grid.fit(x_train, y_train)\n",
        "    print(\"Best Hyperparameters:\", grid.best_params_)\n",
        "    return grid\n"
      ]
    },
    {
      "cell_type": "code",
      "execution_count": 4,
      "metadata": {},
      "outputs": [],
      "source": [
        "# ### PCA\n",
        "# def getMinVarWithAccuracy(model,comp_accuracy, x_train, x_valid, y_train, y_valid):\n",
        "#     n_comp = 0.99\n",
        "#     while 1:\n",
        "#         pca = PCA(n_components=n_comp, svd_solver=\"full\")\n",
        "#         pca.fit(x_train)\n",
        "#         model.fit(pca.transform(x_train), y_train)\n",
        "#         accuracyNext = predictAndGetAccuracyScore(svm_model, pca.transform(x_valid), y_valid)\n",
        "#         if accuracyNext < comp_accuracy:\n",
        "#             break\n",
        "#         else:\n",
        "#             print(\"n_comp\", n_comp, end=\" \")\n",
        "#             print(\"Accuracy\", accuracyNext)\n",
        "#             n_comp -= 0.01\n",
        "#     return n_comp+0.01\n",
        "\n",
        "# n = getMinVarWithAccuracy(svm_model,0.9, x_train[\"label_1\"], x_valid[\"label_1\"], y_train[\"label_1\"], y_valid[\"label_1\"])\n",
        "# print(n)\n"
      ]
    },
    {
      "cell_type": "code",
      "execution_count": 5,
      "metadata": {
        "id": "V0oBLE1-RZCZ"
      },
      "outputs": [],
      "source": [
        "train_data = pd.read_csv('train.csv')\n",
        "valid_data = pd.read_csv('valid.csv')\n",
        "test_data = pd.read_csv('test.csv')"
      ]
    },
    {
      "cell_type": "code",
      "execution_count": 6,
      "metadata": {
        "id": "6qiRCLTmSJpF"
      },
      "outputs": [],
      "source": [
        "X_train = train_data.drop(columns=[\"label_1\", \"label_2\", \"label_3\", \"label_4\"])\n",
        "y_test_train = train_data[\"label_1\"]\n",
        "\n",
        "X_valid = valid_data.drop(columns=[\"label_1\", \"label_2\", \"label_3\", \"label_4\"])\n",
        "Y_valid = valid_data[\"label_1\"]\n",
        "\n",
        "X_test = valid_data.drop(columns=[\"label_1\", \"label_2\", \"label_3\", \"label_4\"])\n",
        "Y_test = valid_data[\"label_1\"]"
      ]
    },
    {
      "cell_type": "code",
      "execution_count": 7,
      "metadata": {},
      "outputs": [],
      "source": [
        "x_train = {}\n",
        "x_valid = {}\n",
        "y_train = {}\n",
        "y_valid = {}\n",
        "x_test = {}\n",
        "y_test = {}\n",
        "Labels = [\"label_1\", \"label_2\", \"label_3\", \"label_4\"]\n",
        "Features = np.array(train_data.drop(columns=[\"label_1\", \"label_2\", \"label_3\", \"label_4\"]).columns)\n",
        "\n",
        "for label in Labels:\n",
        "  tr_data = train_data[train_data[\"label_2\"].notna()] if label == \"label_2\" else train_data\n",
        "  vl_data = valid_data[valid_data[\"label_2\"].notna()] if label == \"label_2\" else valid_data\n",
        "  \n",
        "  scaler = StandardScaler()\n",
        "  \n",
        "  x_train[label] = pd.DataFrame(scaler.fit_transform(tr_data.drop(Labels, axis=1)), columns=Features)\n",
        "  y_train[label] = tr_data[label]\n",
        "  x_valid[label] = pd.DataFrame(scaler.transform(vl_data.drop(Labels, axis=1)), columns=Features)\n",
        "  y_valid[label] = vl_data[label]\n",
        "  x_test[label] = pd.DataFrame(scaler.transform(test_data.drop([\"ID\"], axis=1)), columns=Features)\n"
      ]
    },
    {
      "cell_type": "markdown",
      "metadata": {},
      "source": [
        "<h4>Label 1 - Speaker</h4>"
      ]
    },
    {
      "cell_type": "code",
      "execution_count": 8,
      "metadata": {},
      "outputs": [
        {
          "name": "stdout",
          "output_type": "stream",
          "text": [
            "Accuracy: 94.00%\n"
          ]
        }
      ],
      "source": [
        "###### Initial accuracy with svm_model\n",
        "svm_model_1 = SVC(kernel=\"linear\")\n",
        "svm_model_1.fit(x_train[\"label_1\"], y_train[\"label_1\"])\n",
        "accuracy_label_1 = predictAndGetAccuracyScore(svm_model_1, x_valid[\"label_1\"], y_valid[\"label_1\"])"
      ]
    },
    {
      "cell_type": "code",
      "execution_count": 9,
      "metadata": {},
      "outputs": [
        {
          "name": "stdout",
          "output_type": "stream",
          "text": [
            "(28520, 572)\n"
          ]
        }
      ],
      "source": [
        "#Apply PCA -Feature Extraction\n",
        "pca_label_1 = PCA(n_components=0.99, svd_solver=\"full\")\n",
        "pca_label_1.fit(x_train[\"label_1\"])\n",
        "x_train_label_1_PCA = pd.DataFrame(pca_label_1.transform(x_train[\"label_1\"]))\n",
        "print(x_train_label_1_PCA.shape)\n",
        "x_valid_label_1_PCA = pd.DataFrame(pca_label_1.transform(x_valid[\"label_1\"]))\n"
      ]
    },
    {
      "cell_type": "code",
      "execution_count": 10,
      "metadata": {},
      "outputs": [
        {
          "name": "stdout",
          "output_type": "stream",
          "text": [
            "Fitting 5 folds for each of 2 candidates, totalling 10 fits\n",
            "Best Hyperparameters: {'kernel': 'rbf', 'gamma': 0.001, 'C': 100}\n"
          ]
        }
      ],
      "source": [
        "#Hyper parameter tuning\n",
        "#Randomized search\n",
        "param_dist = {\n",
        "    'C': [100,10,1],  # Continuous uniform distribution for 'C'\n",
        "    'kernel': ['rbf','linear'],  # Categorical distribution for 'kernel'\n",
        "    'gamma': [0.001,0.01,0.1],\n",
        "    # Add more hyperparameters and their distributions as needed\n",
        "}\n",
        "\n",
        "# Create a RandomizedSearchCV object\n",
        "random_search_label_1 = getRandomizedSearch(svm_model_1, param_dist, x_train_label_1_PCA, y_train[\"label_1\"])\n",
        "\n",
        "# Get the best hyperparameters and the corresponding model\n",
        "best_model_label_1 = random_search_label_1.best_estimator_"
      ]
    },
    {
      "cell_type": "code",
      "execution_count": 11,
      "metadata": {},
      "outputs": [
        {
          "name": "stdout",
          "output_type": "stream",
          "text": [
            "Validation Accuracy with Best Model: 0.972\n"
          ]
        }
      ],
      "source": [
        "# Evaluate the best model on your validation set\n",
        "acc_best_model_label_1 = best_model_label_1.score(\n",
        "    x_valid_label_1_PCA, y_valid[\"label_1\"])\n",
        "\n",
        "print(\"Validation Accuracy with Best Model:\", acc_best_model_label_1)"
      ]
    },
    {
      "cell_type": "code",
      "execution_count": 13,
      "metadata": {},
      "outputs": [],
      "source": [
        "y_pred_label_1 = best_model_label_1.predict(pca_label_1.transform(x_test[\"label_1\"]))"
      ]
    },
    {
      "cell_type": "code",
      "execution_count": 16,
      "metadata": {},
      "outputs": [],
      "source": [
        "result_df = pd.DataFrame({'ID': test_data['ID'], 'label_1': y_pred_label_1})"
      ]
    },
    {
      "cell_type": "code",
      "execution_count": 15,
      "metadata": {},
      "outputs": [
        {
          "data": {
            "text/html": [
              "<style>#sk-container-id-2 {color: black;}#sk-container-id-2 pre{padding: 0;}#sk-container-id-2 div.sk-toggleable {background-color: white;}#sk-container-id-2 label.sk-toggleable__label {cursor: pointer;display: block;width: 100%;margin-bottom: 0;padding: 0.3em;box-sizing: border-box;text-align: center;}#sk-container-id-2 label.sk-toggleable__label-arrow:before {content: \"▸\";float: left;margin-right: 0.25em;color: #696969;}#sk-container-id-2 label.sk-toggleable__label-arrow:hover:before {color: black;}#sk-container-id-2 div.sk-estimator:hover label.sk-toggleable__label-arrow:before {color: black;}#sk-container-id-2 div.sk-toggleable__content {max-height: 0;max-width: 0;overflow: hidden;text-align: left;background-color: #f0f8ff;}#sk-container-id-2 div.sk-toggleable__content pre {margin: 0.2em;color: black;border-radius: 0.25em;background-color: #f0f8ff;}#sk-container-id-2 input.sk-toggleable__control:checked~div.sk-toggleable__content {max-height: 200px;max-width: 100%;overflow: auto;}#sk-container-id-2 input.sk-toggleable__control:checked~label.sk-toggleable__label-arrow:before {content: \"▾\";}#sk-container-id-2 div.sk-estimator input.sk-toggleable__control:checked~label.sk-toggleable__label {background-color: #d4ebff;}#sk-container-id-2 div.sk-label input.sk-toggleable__control:checked~label.sk-toggleable__label {background-color: #d4ebff;}#sk-container-id-2 input.sk-hidden--visually {border: 0;clip: rect(1px 1px 1px 1px);clip: rect(1px, 1px, 1px, 1px);height: 1px;margin: -1px;overflow: hidden;padding: 0;position: absolute;width: 1px;}#sk-container-id-2 div.sk-estimator {font-family: monospace;background-color: #f0f8ff;border: 1px dotted black;border-radius: 0.25em;box-sizing: border-box;margin-bottom: 0.5em;}#sk-container-id-2 div.sk-estimator:hover {background-color: #d4ebff;}#sk-container-id-2 div.sk-parallel-item::after {content: \"\";width: 100%;border-bottom: 1px solid gray;flex-grow: 1;}#sk-container-id-2 div.sk-label:hover label.sk-toggleable__label {background-color: #d4ebff;}#sk-container-id-2 div.sk-serial::before {content: \"\";position: absolute;border-left: 1px solid gray;box-sizing: border-box;top: 0;bottom: 0;left: 50%;z-index: 0;}#sk-container-id-2 div.sk-serial {display: flex;flex-direction: column;align-items: center;background-color: white;padding-right: 0.2em;padding-left: 0.2em;position: relative;}#sk-container-id-2 div.sk-item {position: relative;z-index: 1;}#sk-container-id-2 div.sk-parallel {display: flex;align-items: stretch;justify-content: center;background-color: white;position: relative;}#sk-container-id-2 div.sk-item::before, #sk-container-id-2 div.sk-parallel-item::before {content: \"\";position: absolute;border-left: 1px solid gray;box-sizing: border-box;top: 0;bottom: 0;left: 50%;z-index: -1;}#sk-container-id-2 div.sk-parallel-item {display: flex;flex-direction: column;z-index: 1;position: relative;background-color: white;}#sk-container-id-2 div.sk-parallel-item:first-child::after {align-self: flex-end;width: 50%;}#sk-container-id-2 div.sk-parallel-item:last-child::after {align-self: flex-start;width: 50%;}#sk-container-id-2 div.sk-parallel-item:only-child::after {width: 0;}#sk-container-id-2 div.sk-dashed-wrapped {border: 1px dashed gray;margin: 0 0.4em 0.5em 0.4em;box-sizing: border-box;padding-bottom: 0.4em;background-color: white;}#sk-container-id-2 div.sk-label label {font-family: monospace;font-weight: bold;display: inline-block;line-height: 1.2em;}#sk-container-id-2 div.sk-label-container {text-align: center;}#sk-container-id-2 div.sk-container {/* jupyter's `normalize.less` sets `[hidden] { display: none; }` but bootstrap.min.css set `[hidden] { display: none !important; }` so we also need the `!important` here to be able to override the default hidden behavior on the sphinx rendered scikit-learn.org. See: https://github.com/scikit-learn/scikit-learn/issues/21755 */display: inline-block !important;position: relative;}#sk-container-id-2 div.sk-text-repr-fallback {display: none;}</style><div id=\"sk-container-id-2\" class=\"sk-top-container\"><div class=\"sk-text-repr-fallback\"><pre>SVC(C=100, gamma=0.001)</pre><b>In a Jupyter environment, please rerun this cell to show the HTML representation or trust the notebook. <br />On GitHub, the HTML representation is unable to render, please try loading this page with nbviewer.org.</b></div><div class=\"sk-container\" hidden><div class=\"sk-item\"><div class=\"sk-estimator sk-toggleable\"><input class=\"sk-toggleable__control sk-hidden--visually\" id=\"sk-estimator-id-2\" type=\"checkbox\" checked><label for=\"sk-estimator-id-2\" class=\"sk-toggleable__label sk-toggleable__label-arrow\">SVC</label><div class=\"sk-toggleable__content\"><pre>SVC(C=100, gamma=0.001)</pre></div></div></div></div></div>"
            ],
            "text/plain": [
              "SVC(C=100, gamma=0.001)"
            ]
          },
          "execution_count": 15,
          "metadata": {},
          "output_type": "execute_result"
        }
      ],
      "source": [
        "# #Use tuned hyper parameters\n",
        "# tuned_svm_model = SVC(kernel='rbf', gamma=0.001, C=100)\n",
        "# tuned_svm_model.fit(x_train_label1_PCA, y_train[\"label_1\"])\n",
        "# acc = predictAndGetAccuracyScore(tuned_svm_model, x_valid_label1_PCA, y_valid[\"label_1\"])"
      ]
    },
    {
      "cell_type": "markdown",
      "metadata": {
        "tags": []
      },
      "source": [
        "   <h4>Label 2</h4>"
      ]
    },
    {
      "cell_type": "code",
      "execution_count": 15,
      "metadata": {},
      "outputs": [
        {
          "name": "stdout",
          "output_type": "stream",
          "text": [
            "Accuracy: 90.08%\n"
          ]
        }
      ],
      "source": [
        "###### Initial accuracy with svm_model\n",
        " \n",
        "svm_model_2 = SVC()\n",
        "svm_model_2.fit(x_train[\"label_2\"], y_train[\"label_2\"])\n",
        "acc = predictAndGetAccuracyScore(svm_model_2, x_valid[\"label_2\"], y_valid[\"label_2\"])\n"
      ]
    },
    {
      "cell_type": "code",
      "execution_count": 17,
      "metadata": {},
      "outputs": [
        {
          "name": "stdout",
          "output_type": "stream",
          "text": [
            "(28040, 352)\n"
          ]
        }
      ],
      "source": [
        "#Apply PCA - Feature Extraction\n",
        "pca_label_2 = PCA(n_components=0.96, svd_solver=\"full\")\n",
        "pca_label_2.fit(x_train[\"label_2\"])\n",
        "x_train_label2_PCA = pd.DataFrame(pca_label_2.transform(x_train[\"label_2\"]))\n",
        "print(x_train_label2_PCA.shape)\n",
        "x_valid_label2_PCA = pd.DataFrame(pca_label_2.transform(x_valid[\"label_2\"]))\n"
      ]
    },
    {
      "cell_type": "code",
      "execution_count": 18,
      "metadata": {},
      "outputs": [
        {
          "name": "stdout",
          "output_type": "stream",
          "text": [
            "Accuracy: 89.13%\n"
          ]
        }
      ],
      "source": [
        "svm_model_2.fit(x_train_label2_PCA, y_train[\"label_2\"])\n",
        "acc = predictAndGetAccuracyScore(svm_model_2, x_valid_label2_PCA, y_valid[\"label_2\"])"
      ]
    },
    {
      "cell_type": "code",
      "execution_count": 19,
      "metadata": {},
      "outputs": [
        {
          "name": "stdout",
          "output_type": "stream",
          "text": [
            "Fitting 5 folds for each of 2 candidates, totalling 10 fits\n",
            "Best Hyperparameters: {'kernel': 'rbf', 'gamma': 0.001, 'C': 100}\n"
          ]
        }
      ],
      "source": [
        "#Hyper parameter tuning\n",
        "#Randomized search\n",
        "param_dist = {\n",
        "    # Continuous uniform distribution for 'C'\n",
        "    'C': [100, 10, 1, 0.1],\n",
        "    'kernel': ['rbf'],  # Categorical distribution for 'kernel'\n",
        "    'gamma': [0.001, 0.01, 0.1, 1,],\n",
        "    # Add more hyperparameters and their distributions as needed\n",
        "}\n",
        "random_search = getRandomizedSearch(svm_model_2, param_dist, x_train_label2_PCA, y_train[\"label_2\"])\n",
        "best_model_label_2 = random_search.best_estimator_\n"
      ]
    },
    {
      "cell_type": "code",
      "execution_count": 20,
      "metadata": {},
      "outputs": [
        {
          "name": "stdout",
          "output_type": "stream",
          "text": [
            "Accuracy: 91.85%\n"
          ]
        }
      ],
      "source": [
        "acc_best_model_label_2 = predictAndGetAccuracyScore(best_model_label_2, x_valid_label2_PCA, y_valid[\"label_2\"]) "
      ]
    },
    {
      "cell_type": "code",
      "execution_count": 87,
      "metadata": {},
      "outputs": [
        {
          "name": "stdout",
          "output_type": "stream",
          "text": [
            "Accuracy: 91.71%\n"
          ]
        }
      ],
      "source": [
        "# # Since Accuracy has decrease after randomized search, manual search was used and got best parameters as \n",
        "# # C=10, gamma=0.001 and kernel=rbf\n",
        "\n",
        "# svm_model_2_tuned = SVC(kernel= 'rbf', gamma= 0.001, C= 10)\n",
        "# svm_model_2_tuned.fit(x_train_label2_PCA, y_train[\"label_2\"])\n",
        "# acc_best_model_tuned_label_2 = predictAndGetAccuracyScore(svm_model_2_tuned, x_valid_label2_PCA, y_valid[\"label_2\"])\n"
      ]
    },
    {
      "cell_type": "code",
      "execution_count": 21,
      "metadata": {},
      "outputs": [],
      "source": [
        "y_pred_label_2 = best_model_label_2.predict(pca_label_2.transform(x_test[\"label_2\"]))"
      ]
    },
    {
      "cell_type": "code",
      "execution_count": 22,
      "metadata": {},
      "outputs": [],
      "source": [
        "result_df['label_2'] = y_pred_label_2"
      ]
    },
    {
      "cell_type": "markdown",
      "metadata": {},
      "source": [
        "<h4>Label 3</h4>"
      ]
    },
    {
      "cell_type": "code",
      "execution_count": 23,
      "metadata": {},
      "outputs": [
        {
          "name": "stdout",
          "output_type": "stream",
          "text": [
            "Accuracy: 99.73%\n"
          ]
        }
      ],
      "source": [
        "###### Initial accuracy with svm_model\n",
        "svm_model_3 = SVC(kernel=\"linear\")\n",
        "svm_model_3.fit(x_train[\"label_3\"], y_train[\"label_3\"])\n",
        "acc = predictAndGetAccuracyScore(svm_model_3, x_valid[\"label_3\"], y_valid[\"label_3\"])\n"
      ]
    },
    {
      "cell_type": "code",
      "execution_count": 31,
      "metadata": {},
      "outputs": [
        {
          "name": "stdout",
          "output_type": "stream",
          "text": [
            "(28520, 120)\n"
          ]
        }
      ],
      "source": [
        "#Apply PCA - Feature Extraction\n",
        "pca_label_3 = PCA(n_components=0.85, svd_solver=\"full\")\n",
        "pca_label_3.fit(x_train[\"label_3\"])\n",
        "x_train_label_3_PCA = pd.DataFrame(pca_label_3.transform(x_train[\"label_3\"]))\n",
        "print(x_train_label_3_PCA.shape)\n",
        "x_valid_label_3_PCA = pd.DataFrame(pca_label_3.transform(x_valid[\"label_3\"]))\n"
      ]
    },
    {
      "cell_type": "code",
      "execution_count": 32,
      "metadata": {},
      "outputs": [
        {
          "name": "stdout",
          "output_type": "stream",
          "text": [
            "Accuracy: 99.07%\n"
          ]
        }
      ],
      "source": [
        "svm_model_3.fit(x_train_label_3_PCA, y_train[\"label_3\"])\n",
        "acc = predictAndGetAccuracyScore(svm_model_3, x_valid_label_3_PCA, y_valid[\"label_3\"])"
      ]
    },
    {
      "cell_type": "code",
      "execution_count": 33,
      "metadata": {},
      "outputs": [],
      "source": [
        "#Hyper parameter tuning\n",
        "#Randomized search\n",
        "\n",
        "label_3_param_dist = {\n",
        "    # Continuous uniform distribution for 'C'\n",
        "    'C': [100, 10, 1, 0.1],\n",
        "    'kernel': ['rbf'],  # Categorical distribution for 'kernel'\n",
        "    'gamma': [0.001, 0.01, 0.1, 1],\n",
        "    # Add more hyperparameters and their distributions as needed\n",
        "}"
      ]
    },
    {
      "cell_type": "code",
      "execution_count": 34,
      "metadata": {},
      "outputs": [
        {
          "name": "stdout",
          "output_type": "stream",
          "text": [
            "Fitting 5 folds for each of 2 candidates, totalling 10 fits\n",
            "Best Hyperparameters: {'kernel': 'rbf', 'gamma': 0.001, 'C': 100}\n"
          ]
        }
      ],
      "source": [
        "random_search_label_3 = getRandomizedSearch(svm_model_3, label_3_param_dist, x_train_label_3_PCA, y_train[\"label_3\"])"
      ]
    },
    {
      "cell_type": "code",
      "execution_count": 35,
      "metadata": {},
      "outputs": [
        {
          "name": "stdout",
          "output_type": "stream",
          "text": [
            "Accuracy: 99.60%\n"
          ]
        }
      ],
      "source": [
        "best_model_label_3 = random_search_label_3.best_estimator_\n",
        "acc_best_model_label_3 = predictAndGetAccuracyScore(best_model_label_3, x_valid_label_3_PCA, y_valid[\"label_3\"])"
      ]
    },
    {
      "cell_type": "code",
      "execution_count": 36,
      "metadata": {},
      "outputs": [
        {
          "data": {
            "image/png": "[encoded data removed]",
            "text/plain": [
              "<Figure size 1000x600 with 1 Axes>"
            ]
          },
          "metadata": {},
          "output_type": "display_data"
        }
      ],
      "source": [
        "import matplotlib.pyplot as plt\n",
        "\n",
        "# Access the results of the randomized search\n",
        "results = random_search_label_3.cv_results_\n",
        "\n",
        "# Extract the hyperparameters and their corresponding scores\n",
        "param_gamma = results['param_gamma'].data\n",
        "mean_test_scores = results['mean_test_score']\n",
        "\n",
        "# Create a plot to visualize the relationship between C and mean test scores\n",
        "plt.figure(figsize=(10, 6))\n",
        "plt.plot(param_gamma, mean_test_scores, marker='o', linestyle='-', color='b')\n",
        "plt.title('Effect of gamma on Model Performance')\n",
        "plt.xlabel('Gamma')\n",
        "plt.ylabel('Mean Test Score (Accuracy)')\n",
        "plt.grid(True)\n",
        "plt.show()\n"
      ]
    },
    {
      "cell_type": "code",
      "execution_count": 37,
      "metadata": {},
      "outputs": [],
      "source": [
        "y_pred_label_3 = best_model_label_3.predict(pca_label_3.transform(x_test[\"label_3\"]))"
      ]
    },
    {
      "cell_type": "code",
      "execution_count": 38,
      "metadata": {},
      "outputs": [],
      "source": [
        "result_df['label_3'] = y_pred_label_3"
      ]
    },
    {
      "cell_type": "markdown",
      "metadata": {},
      "source": [
        "<h4>Label 4</h4>"
      ]
    },
    {
      "cell_type": "code",
      "execution_count": 39,
      "metadata": {},
      "outputs": [
        {
          "name": "stdout",
          "output_type": "stream",
          "text": [
            "Accuracy: 93.87%\n"
          ]
        }
      ],
      "source": [
        "###### Initial accuracy with svm_model\n",
        "svm_model_4 = SVC()\n",
        "svm_model_4.fit(x_train[\"label_4\"], y_train[\"label_4\"])\n",
        "acc = predictAndGetAccuracyScore(\n",
        "    svm_model_4, x_valid[\"label_4\"], y_valid[\"label_4\"])\n"
      ]
    },
    {
      "cell_type": "code",
      "execution_count": 40,
      "metadata": {},
      "outputs": [
        {
          "name": "stdout",
          "output_type": "stream",
          "text": [
            "(28520, 203)\n"
          ]
        }
      ],
      "source": [
        "pca_label_4 = PCA(n_components=0.91, svd_solver=\"full\")\n",
        "pca_label_4.fit(x_train[\"label_4\"])\n",
        "x_train_label_4_PCA = pd.DataFrame(pca_label_4.transform(x_train[\"label_4\"]))\n",
        "print(x_train_label_4_PCA.shape)\n",
        "x_valid_label_4_PCA = pd.DataFrame(pca_label_4.transform(x_valid[\"label_4\"]))\n"
      ]
    },
    {
      "cell_type": "code",
      "execution_count": 41,
      "metadata": {},
      "outputs": [
        {
          "name": "stdout",
          "output_type": "stream",
          "text": [
            "Accuracy: 93.07%\n"
          ]
        }
      ],
      "source": [
        "svm_model_4.fit(x_train_label_4_PCA, y_train[\"label_4\"])\n",
        "acc = predictAndGetAccuracyScore(svm_model_4, x_valid_label_4_PCA, y_valid[\"label_4\"])"
      ]
    },
    {
      "cell_type": "code",
      "execution_count": 42,
      "metadata": {},
      "outputs": [],
      "source": [
        "label_4_param_dist = {\n",
        "    # Continuous uniform distribution for 'C'\n",
        "    'C': [100, 10, 1, 0.1],\n",
        "    'kernel': ['rbf'],  # Categorical distribution for 'kernel'\n",
        "    'gamma': [0.001, 0.01, 0.1, 1],\n",
        "    # Add more hyperparameters and their distributions as needed\n",
        "}"
      ]
    },
    {
      "cell_type": "code",
      "execution_count": 43,
      "metadata": {},
      "outputs": [
        {
          "name": "stdout",
          "output_type": "stream",
          "text": [
            "Fitting 5 folds for each of 2 candidates, totalling 10 fits\n",
            "Best Hyperparameters: {'kernel': 'rbf', 'gamma': 0.001, 'C': 100}\n"
          ]
        }
      ],
      "source": [
        "random_search_label_4 = getRandomizedSearch(svm_model_4, label_4_param_dist, x_train_label_4_PCA, y_train[\"label_4\"])"
      ]
    },
    {
      "cell_type": "code",
      "execution_count": 44,
      "metadata": {},
      "outputs": [
        {
          "data": {
            "image/png": "[encoded data removed]",
            "text/plain": [
              "<Figure size 1000x600 with 1 Axes>"
            ]
          },
          "metadata": {},
          "output_type": "display_data"
        }
      ],
      "source": [
        "import matplotlib.pyplot as plt\n",
        "\n",
        "# Access the results of the randomized search\n",
        "results = random_search_label_3.cv_results_\n",
        "\n",
        "# Extract the hyperparameters and their corresponding scores\n",
        "param_gamma = results['param_gamma'].data\n",
        "mean_test_scores = results['mean_test_score']\n",
        "\n",
        "# Create a plot to visualize the relationship between C and mean test scores\n",
        "plt.figure(figsize=(10, 6))\n",
        "plt.plot(param_gamma, mean_test_scores, marker='o', linestyle='-', color='b')\n",
        "plt.title('Effect of gamma on Model Performance')\n",
        "plt.xlabel('Gamma')\n",
        "plt.ylabel('Mean Test Score (Accuracy)')\n",
        "plt.grid(True)\n",
        "plt.show()\n"
      ]
    },
    {
      "cell_type": "code",
      "execution_count": 45,
      "metadata": {},
      "outputs": [
        {
          "name": "stdout",
          "output_type": "stream",
          "text": [
            "Accuracy: 96.13%\n"
          ]
        }
      ],
      "source": [
        "best_model_label_4 = random_search_label_4.best_estimator_\n",
        "\n",
        "acc_best_model_label_4 = predictAndGetAccuracyScore(best_model_label_4, x_valid_label_4_PCA, y_valid[\"label_4\"])"
      ]
    },
    {
      "cell_type": "code",
      "execution_count": 46,
      "metadata": {},
      "outputs": [],
      "source": [
        "y_pred_label_4 = best_model_label_4.predict(pca_label_4.transform(x_test[\"label_4\"]))"
      ]
    },
    {
      "cell_type": "code",
      "execution_count": 47,
      "metadata": {},
      "outputs": [],
      "source": [
        "result_df['label_4'] = y_pred_label_4"
      ]
    },
    {
      "cell_type": "code",
      "execution_count": 48,
      "metadata": {},
      "outputs": [],
      "source": [
        "result_df.to_csv(\"solutions.csv\", index=False)"
      ]
    }
  ],
  "metadata": {
    "colab": {
      "provenance": []
    },
    "kernelspec": {
      "display_name": "Python 3",
      "name": "python3"
    },
    "language_info": {
      "codemirror_mode": {
        "name": "ipython",
        "version": 3
      },
      "file_extension": ".py",
      "mimetype": "text/x-python",
      "name": "python",
      "nbconvert_exporter": "python",
      "pygments_lexer": "ipython3",
      "version": "3.11.4"
    }
  },
  "nbformat": 4,
  "nbformat_minor": 0
}
